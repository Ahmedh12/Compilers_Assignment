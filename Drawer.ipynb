{
 "cells": [
  {
   "cell_type": "code",
   "execution_count": 6,
   "metadata": {},
   "outputs": [
    {
     "data": {
      "text/plain": [
       "'output\\\\DFA_2.png'"
      ]
     },
     "execution_count": 6,
     "metadata": {},
     "output_type": "execute_result"
    }
   ],
   "source": [
    "# draw graphs of automata from json files using graphviz\n",
    "import json\n",
    "import graphviz\n",
    "\n",
    "def draw_DFA(DFA):\n",
    "    G = graphviz.Digraph()\n",
    "    nodes = list(DFA.keys())[1:]\n",
    "    for node in nodes:\n",
    "        G.node(DFA.get(\"StartingState\"),color='green')\n",
    "        if DFA.get(node).get('IsTerminating'):\n",
    "            G.node(node, shape='doublecircle' , color='red')\n",
    "        else:\n",
    "            G.node(node)\n",
    "    for state in DFA:\n",
    "        if state != \"StartingState\":\n",
    "            for transition in DFA.get(state):\n",
    "                if transition != 'states' and transition != 'IsTerminating':\n",
    "                    G.edge(state, DFA.get(state).get(transition), label=transition)\n",
    "    return G\n",
    "\n",
    "file = open(\"json/DFA_2.json\", \"r\")\n",
    "DFA = json.load(file)\n",
    "graph = draw_DFA(DFA)\n",
    "graph.render('output/DFA_2' , format='png' ,cleanup=True , quiet=True)"
   ]
  },
  {
   "cell_type": "code",
   "execution_count": 7,
   "metadata": {},
   "outputs": [
    {
     "data": {
      "text/plain": [
       "'output\\\\Min_DFA_2.png'"
      ]
     },
     "execution_count": 7,
     "metadata": {},
     "output_type": "execute_result"
    }
   ],
   "source": [
    "file = open(\"json/Min_DFA_2.json\", \"r\")\n",
    "Min_DFA = json.load(file)\n",
    "MIN_DFA = draw_DFA(Min_DFA)\n",
    "MIN_DFA.render('output/Min_DFA_2' , format='png' ,cleanup=True , quiet=True)"
   ]
  },
  {
   "cell_type": "code",
   "execution_count": 8,
   "metadata": {},
   "outputs": [
    {
     "data": {
      "text/plain": [
       "'output\\\\NFA_2.png'"
      ]
     },
     "execution_count": 8,
     "metadata": {},
     "output_type": "execute_result"
    }
   ],
   "source": [
    "def draw_NFA(NFA):\n",
    "    G = graphviz.Digraph()\n",
    "    nodes = list(NFA.keys())[1:]\n",
    "    for node in nodes:\n",
    "        G.node(NFA.get(\"StartingState\"),color='green')\n",
    "        if NFA.get(node).get('IsTerminating'):\n",
    "            G.node(node, shape='doublecircle' , color='red')\n",
    "        else:\n",
    "            G.node(node)\n",
    "    for state in NFA:\n",
    "        if state != \"StartingState\":\n",
    "            for transition in NFA.get(state):\n",
    "                if transition != 'states' and transition != 'IsTerminating':\n",
    "                    for next_state in NFA.get(state).get(transition):\n",
    "                        if transition == \"epsilon\":\n",
    "                            G.edge(state, next_state, label='ε')\n",
    "                        else:\n",
    "                            G.edge(state, next_state, label=transition)\n",
    "    return G\n",
    "\n",
    "file = open(\"json/NFA_2.json\", \"r\")\n",
    "NFA = json.load(file)\n",
    "NFA = draw_NFA(NFA)\n",
    "NFA.render('output/NFA_2', view=True , format='png' ,cleanup=True , quiet=True)"
   ]
  },
  {
   "cell_type": "code",
   "execution_count": null,
   "metadata": {},
   "outputs": [],
   "source": []
  }
 ],
 "metadata": {
  "kernelspec": {
   "display_name": "Python 3",
   "language": "python",
   "name": "python3"
  },
  "language_info": {
   "codemirror_mode": {
    "name": "ipython",
    "version": 3
   },
   "file_extension": ".py",
   "mimetype": "text/x-python",
   "name": "python",
   "nbconvert_exporter": "python",
   "pygments_lexer": "ipython3",
   "version": "3.9.7"
  },
  "orig_nbformat": 4
 },
 "nbformat": 4,
 "nbformat_minor": 2
}
