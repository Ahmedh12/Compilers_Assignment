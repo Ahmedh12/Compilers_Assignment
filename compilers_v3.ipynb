{
 "cells": [
  {
   "cell_type": "code",
   "execution_count": 1406,
   "metadata": {},
   "outputs": [],
   "source": [
    "from subprocess import getoutput\n",
    "import os\n",
    "import re \n",
    "import json\n",
    "#%pip install libgraphviz-dev\n",
    "#%pip install pygraphviz\n",
    "#%pip install graphviz\n",
    "import graphviz\n",
    "from collections import defaultdict"
   ]
  },
  {
   "cell_type": "code",
   "execution_count": 1407,
   "metadata": {},
   "outputs": [],
   "source": [
    "def ValidateRegex (RegexInput):\n",
    "  try:\n",
    "    re.compile(RegexInput)\n",
    "    return True\n",
    "\n",
    "  except re.error:\n",
    "    print(\"Non valid regex pattern\")\n",
    "    exit()"
   ]
  },
  {
   "cell_type": "code",
   "execution_count": 1408,
   "metadata": {},
   "outputs": [],
   "source": [
    "def ExtractAtomicExpressions(regex):\n",
    "    stack = list() \n",
    "    atomic = str()\n",
    "    atomics = list()\n",
    "    for c in regex:\n",
    "        if c != \")\":\n",
    "            stack.append(c)\n",
    "        else:\n",
    "            while stack[-1] != \"(\" and len(stack) > 0 : #Extract the atomic expression that corresponds to the closing paranthesis found\n",
    "                atomic = stack[-1] + atomic\n",
    "                stack.pop(-1)\n",
    "            \n",
    "            stack.pop(-1) #remove the opening bracket from the stack\n",
    "            atomics.append(atomic)\n",
    "            atomic = \"\"\n",
    "    #atomics.reverse()\n",
    "    return atomics"
   ]
  },
  {
   "cell_type": "code",
   "execution_count": 1409,
   "metadata": {},
   "outputs": [],
   "source": [
    "class State:\n",
    "    stateID=None\n",
    "    edges=[]\n",
    "    transitions=[]    \n",
    "    def __init__(self, stateID=None, edges=None,transitions=None):\n",
    "        self.stateID = stateID\n",
    "        self.edges = edges or []"
   ]
  },
  {
   "cell_type": "code",
   "execution_count": 1410,
   "metadata": {},
   "outputs": [],
   "source": [
    "class NFA:\n",
    "    initial = None\n",
    "    accept = None\n",
    "\n",
    "    def __init__(self, initial, accept):\n",
    "        self.initial = initial\n",
    "        self.accept = accept or []"
   ]
  },
  {
   "cell_type": "code",
   "execution_count": 1411,
   "metadata": {},
   "outputs": [],
   "source": [
    "\n",
    "def InsertConcatenationDot(regex):\n",
    "    #regex = re.sub(r'\\)(\\w|\\()', r').\\1', regex)\n",
    "    regex = re.sub(r'\\)(\\()', r').\\1', regex)\n",
    "    regex = re.sub(r'(\\w|\\))(\\(|\\w)', r'\\1.\\2', regex)\n",
    "    #regex = re.sub(r'\\](?=[a-zA-Z0-9])', '].', regex)\n",
    "    #regex = re.sub(r'\\)(?=[a-zA-Z0-9])', ').', regex)\n",
    "    #regex = re.sub(r'(\\w|\\))\\(', r'\\1.(', regex)\n",
    "    #regex = re.sub(r'\\)([A-Z123]\\()', ').\\g<1>', regex)\n",
    "    #regex = re.sub(r'\\)', ').', regex)\n",
    "\n",
    "\n",
    "    return regex\n",
    "\n"
   ]
  },
  {
   "cell_type": "code",
   "execution_count": 1412,
   "metadata": {},
   "outputs": [
    {
     "name": "stdout",
     "output_type": "stream",
     "text": [
      "(([A-Z.12.3]).([d.ry.tf.56.87.6]))\n",
      "['[A-Z.12.3]', '[d.ry.tf.56.87.6]', '.']\n"
     ]
    }
   ],
   "source": [
    "#regex=(\"((xy)z)\")\n",
    "#regex=(\"(xy)\")\n",
    "regex=\"(([A-Z123])([drytf56876]))\"\n",
    "#regex = re.sub(r'(\\w|\\))\\(', r'\\1.(', regex)\n",
    "print(InsertConcatenationDot(regex))\n",
    "r = InsertConcatenationDot(regex)\n",
    "print(ExtractAtomicExpressions(r))"
   ]
  },
  {
   "cell_type": "code",
   "execution_count": 1413,
   "metadata": {},
   "outputs": [],
   "source": [
    "def MoveSymbolToEndOfAtomicExpression(expression):\n",
    "    for i in range(len(expression)):\n",
    "        if expression[i] == \"|\":\n",
    "            return expression[0:i] + expression[i+1:] + \"|\"\n",
    "        if expression[i] == \".\":\n",
    "            return expression[0:i] + expression[i+1:] + \".\"\n",
    "    return expression\n",
    "            "
   ]
  },
  {
   "cell_type": "code",
   "execution_count": 1414,
   "metadata": {},
   "outputs": [],
   "source": [
    "def RegexToNFA(regex):   \n",
    "    if ValidateRegex(regex):\n",
    "        regex = InsertConcatenationDot(regex)\n",
    "        regex = regex.replace(\" \", \"\")\n",
    "        atomics = ExtractAtomicExpressions(regex)\n",
    "        states = list()\n",
    "        for i in range(len(atomics)):\n",
    "            atomics[i] = MoveSymbolToEndOfAtomicExpression(atomics[i])\n",
    "        counter = -1\n",
    "        stack = []\n",
    "        for atomic in atomics:\n",
    "                match = re.search(r'\\[.*?\\]', atomic)\n",
    "                if match:\n",
    "                    character_class = match.group()\n",
    "                    counter=counter+1\n",
    "                    initial = State()\n",
    "                    initial.stateID=counter\n",
    "                    accept = State()\n",
    "                    accept.stateID=counter+1\n",
    "                    initial.edges.append((character_class, accept))\n",
    "                    accept.edges=[]\n",
    "                    stack.append(NFA(initial, [accept]))\n",
    "                    counter=counter+1\n",
    "                    continue\n",
    "                \n",
    "            #else:                \n",
    "                for i in range(len(atomic)):\n",
    "                    if atomic[i] == '.':\n",
    "                        NFA2 = stack.pop()\n",
    "                        NFA1 = stack.pop()\n",
    "                        NFA1.accept[0].edges.append((\"epsilon\", NFA2.initial))\n",
    "                        NFA1.accept = NFA2.accept\n",
    "                        stack.append(NFA1)\n",
    "                    elif atomic[i] == '|':\n",
    "                        NFA2 = stack.pop()\n",
    "                        NFA1 = stack.pop()\n",
    "                        counter=counter+1\n",
    "                        initial = State()\n",
    "                        initial.stateID=counter\n",
    "                        accept=State()\n",
    "                        counter=counter+1\n",
    "                        accept.stateID=counter\n",
    "                        initial.edges.append((\"epsilon\", NFA1.initial))\n",
    "                        initial.edges.append((\"epsilon\", NFA2.initial))\n",
    "                        #accept = NFA1.accept + NFA2.accept\n",
    "                        NFA1.accept[0].edges.append((\"epsilon\",accept))\n",
    "                        NFA2.accept[0].edges.append((\"epsilon\",accept))\n",
    "                        stack.append(NFA(initial, [accept]))\n",
    "                    elif atomic[i] == '*':\n",
    "                        counter=counter+1\n",
    "                        NFA0 = stack.pop()\n",
    "                        initial = State()\n",
    "                        initial.stateID=counter\n",
    "                        accept = State()\n",
    "                        counter=counter+1\n",
    "                        accept.stateID=counter\n",
    "                        initial.edges.append((\"epsilon\", NFA0.initial))\n",
    "                        initial.edges.append((\"epsilon\", accept))\n",
    "                        NFA0.accept[0].edges.append((\"epsilon\", initial))\n",
    "                        NFA0.accept[0].edges.append((\"epsilon\", accept))\n",
    "                        stack.append(NFA(initial, [accept]))\n",
    "\n",
    "                    \n",
    "                    elif atomic[i] == '?':\n",
    "                        counter=counter+1\n",
    "                        NFA0 = stack.pop()\n",
    "                        NFA0.initial.edges.append((\"epsilon\", NFA0.accept[0]))\n",
    "                        stack.append(NFA0)\n",
    "\n",
    "                    elif atomic[i] == '+':\n",
    "                        counter=counter+1\n",
    "                        NFA0 = stack.pop()\n",
    "                        initial = State()\n",
    "                        initial.stateID=counter\n",
    "                        accept = State()\n",
    "                        counter=counter+1\n",
    "                        accept.stateID=counter\n",
    "                        initial.edges.append((\"epsilon\", NFA0.initial))\n",
    "                        NFA0.accept[0].edges.append((\"epsilon\", accept))\n",
    "                        NFA0.accept[0].edges.append((\"epsilon\", NFA0.initial))\n",
    "                        stack.append(NFA(initial, [accept]))\n",
    "\n",
    "                \n",
    "                    else:\n",
    "                        counter=counter+1\n",
    "                        initial = State()\n",
    "                        initial.stateID=counter\n",
    "                        accept = State()\n",
    "                        accept.stateID=counter+1\n",
    "                        initial.edges.append((atomic[i], accept))\n",
    "                        stack.append(NFA(initial, [accept]))\n",
    "                        counter=counter+1\n",
    "    if len(stack) >= 1:\n",
    "        return stack.pop()\n"
   ]
  },
  {
   "cell_type": "code",
   "execution_count": 1415,
   "metadata": {},
   "outputs": [],
   "source": [
    "def WriteJsonFile(NFA):\n",
    " \n",
    "    data = dict()\n",
    "    visited = set()\n",
    "    data[\"startingState\"]=\"S\"+str(NFA.initial.stateID)\n",
    "    queue = [NFA.initial]\n",
    "    while queue:\n",
    "        state = queue.pop(0)\n",
    "        if state in visited:\n",
    "            continue\n",
    "        visited.add(state)\n",
    "        \n",
    "        if state in NFA.accept:\n",
    "                    \n",
    "                    if data.get(\"S\"+str(state.stateID)) is not None:\n",
    "                        print(\"\")\n",
    "                    else:\n",
    "                       data[\"S\"+str(state.stateID)]=  dict()\n",
    "                       data[\"S\"+str(state.stateID)][\"isTerminatingState\"]=\"true\"\n",
    "                    for char, dest_state in state.edges:\n",
    "                        if data.get(\"S\"+str(state.stateID),{}).get(str(char)) is not None:\n",
    "                            \n",
    "                            data[\"S\"+str(state.stateID)][str(char)].append(\"S\"+str(dest_state.stateID))\n",
    "                            \n",
    "                        else:\n",
    "                            data[\"S\"+str(state.stateID)][str(char)]=list()\n",
    "                            data[\"S\"+str(state.stateID)][str(char)].append(\"S\"+str(dest_state.stateID))\n",
    "\n",
    "  \n",
    "                        queue.append(dest_state)\n",
    "\n",
    "                            \n",
    "        for char, dest_state in state.edges:\n",
    "\n",
    "            if data.get(\"S\"+str(state.stateID)) is not None:\n",
    "                print(\"\")\n",
    "            else:\n",
    "                       data[\"S\"+str(state.stateID)]= dict()\n",
    "                       data[\"S\"+str(state.stateID)][\"isTerminatingState\"]=\"false\"\n",
    "                       \n",
    "            if data.get(\"S\"+str(state.stateID))  is not None:\n",
    "                if data.get(\"S\"+str(state.stateID),{}).get(str(char))is not None:\n",
    "                    data[\"S\"+str(state.stateID)][str(char)].append(\"S\"+str(dest_state.stateID))\n",
    "                            \n",
    "                else:\n",
    "                    data[\"S\"+str(state.stateID)][str(char)]=list()\n",
    "                    data[\"S\"+str(state.stateID)][str(char)].append(\"S\"+str(dest_state.stateID))\n",
    "\n",
    "            queue.append(dest_state)\n",
    "\n",
    "    f = open('Json/NFA.json','w')\n",
    "    json.dump(data,f)\n",
    "    f.close()\n",
    "    return data"
   ]
  },
  {
   "cell_type": "code",
   "execution_count": 1416,
   "metadata": {},
   "outputs": [
    {
     "name": "stdout",
     "output_type": "stream",
     "text": [
      "(([A-Z.12.3]).A)\n",
      "['[A-Z123]', 'A']\n"
     ]
    },
    {
     "data": {
      "text/plain": [
       "{'startingState': 'S0',\n",
       " 'S0': {'isTerminatingState': 'false', '[A-Z12.3]': ['S1']},\n",
       " 'S1': {'isTerminatingState': 'false', 'epsilon': ['S2']},\n",
       " 'S2': {'isTerminatingState': 'false', 'A': ['S3']},\n",
       " 'S3': {'isTerminatingState': 'true'}}"
      ]
     },
     "execution_count": 1416,
     "metadata": {},
     "output_type": "execute_result"
    }
   ],
   "source": [
    "#regex= \"((a(b*))c)\"\n",
    "#regex= \"([a-c])\"\n",
    "#regex= \"(AB)\"\n",
    "#regex= \"(A*)\"\n",
    "#regex= \"(A|B)\"\n",
    "regex=\"(([A-Z123])A)\"\n",
    "#regex= \"(([A-Z123]*)|e)\"\n",
    "#regex=\"([A-Z123]*)\"\n",
    "#regex=\"(a?)\"\n",
    "#regex=\"(a+)\"\n",
    "#print(ExtractAtomicExpressions(regex))\n",
    "r=InsertConcatenationDot(regex)\n",
    "print(r)\n",
    "print(ExtractAtomicExpressions(regex))\n",
    "nfa=RegexToNFA(regex)\n",
    "WriteJsonFile(nfa)"
   ]
  },
  {
   "cell_type": "code",
   "execution_count": 1417,
   "metadata": {},
   "outputs": [
    {
     "name": "stdout",
     "output_type": "stream",
     "text": [
      "next state S1\n",
      "state S0\n",
      "next state S3\n",
      "state S2\n"
     ]
    },
    {
     "data": {
      "text/plain": [
       "'output/NFA.png'"
      ]
     },
     "execution_count": 1417,
     "metadata": {},
     "output_type": "execute_result"
    }
   ],
   "source": [
    "def draw_NFA(NFA):\n",
    "    G = graphviz.Digraph()\n",
    "    nodes = list(NFA.keys())[1:]\n",
    "    for node in nodes:\n",
    "        G.node(NFA.get(\"startingState\"),color='green')\n",
    "        if NFA.get(node).get('isTerminatingState') == 'true':\n",
    "            G.node(node, shape='doublecircle' , color='red')\n",
    "        else:\n",
    "            G.node(node)\n",
    "    for state in NFA:\n",
    "        if state != \"startingState\":\n",
    "            for transition in NFA.get(state):\n",
    "                if transition != 'states' and transition != 'isTerminatingState':\n",
    "                    for next_state in [NFA.get(state).get(transition)]:\n",
    "                        for next_states in next_state:\n",
    "                            if transition == \"epsilon\":\n",
    "                                G.edge(state, next_states, label='ε')\n",
    "                            #print(\"next state\",next_state)\n",
    "                            else:\n",
    "                                G.edge(state, next_states, label=transition)\n",
    "                                print(\"next state\",next_states)\n",
    "                                print(\"state\",state)\n",
    "    return G\n",
    "file = open(\"json/NFA.json\", \"r\")\n",
    "NFA = json.load(file)\n",
    "NFA = draw_NFA(NFA)\n",
    "NFA.render('output/NFA', view=True , format='png' ,cleanup=True , quiet=True)\n",
    "\n"
   ]
  }
 ],
 "metadata": {
  "kernelspec": {
   "display_name": "Python 3 (ipykernel)",
   "language": "python",
   "name": "python3"
  },
  "language_info": {
   "codemirror_mode": {
    "name": "ipython",
    "version": 3
   },
   "file_extension": ".py",
   "mimetype": "text/x-python",
   "name": "python",
   "nbconvert_exporter": "python",
   "pygments_lexer": "ipython3",
   "version": "3.11.2"
  },
  "vscode": {
   "interpreter": {
    "hash": "5c7b89af1651d0b8571dde13640ecdccf7d5a6204171d6ab33e7c296e100e08a"
   }
  }
 },
 "nbformat": 4,
 "nbformat_minor": 2
}
