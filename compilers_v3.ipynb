{
 "cells": [
  {
   "cell_type": "code",
   "execution_count": 2,
   "metadata": {},
   "outputs": [],
   "source": [
    "from IPython.display import JSON\n",
    "from subprocess import getoutput\n",
    "import os\n",
    "import re "
   ]
  },
  {
   "cell_type": "code",
   "execution_count": 17,
   "metadata": {},
   "outputs": [],
   "source": [
    "def ValidateRegex (RegexInput):\n",
    "  try:\n",
    "    re.compile(RegexInput)\n",
    "    return True\n",
    "\n",
    "  except re.error:\n",
    "    print(\"Non valid regex pattern\")\n",
    "    exit()"
   ]
  },
  {
   "cell_type": "code",
   "execution_count": 4,
   "metadata": {},
   "outputs": [],
   "source": [
    "def ExtractAtomicExpressions(regex):\n",
    "    stack = list() \n",
    "    atomic = str()\n",
    "    atomics = list()\n",
    "    for c in regex:\n",
    "        if c != \")\":\n",
    "            stack.append(c)\n",
    "        else:\n",
    "            while stack[-1] != \"(\" and len(stack) > 0 : #Extract the atomic expression that corresponds to the closing paranthesis found\n",
    "                atomic = stack[-1] + atomic\n",
    "                stack.pop(-1)\n",
    "            \n",
    "            stack.pop(-1) #remove the opening bracket from the stack\n",
    "            atomics.append(atomic)\n",
    "            atomic = \"\"\n",
    "    #atomics.reverse()\n",
    "    return atomics"
   ]
  },
  {
   "cell_type": "code",
   "execution_count": 5,
   "metadata": {},
   "outputs": [],
   "source": [
    "class State:\n",
    "    stateID=None\n",
    "    edges=[]\n",
    "    transitions=[]    "
   ]
  },
  {
   "cell_type": "code",
   "execution_count": 6,
   "metadata": {},
   "outputs": [],
   "source": [
    "class NFA:\n",
    "    initial = None\n",
    "    accept = None\n",
    "\n",
    "    def __init__(self, initial, accept):\n",
    "        self.initial = initial\n",
    "        self.accept = accept"
   ]
  },
  {
   "cell_type": "code",
   "execution_count": 7,
   "metadata": {},
   "outputs": [],
   "source": [
    "def InsertConcatenationDot(regex):\n",
    "    regex = re.sub(r'(\\w|\\))(\\(|\\w)', r'\\1.\\2', regex)\n",
    "    regex = re.sub(r'(\\w|\\))\\(', r'\\1.(', regex)\n",
    "    regex = re.sub(r'\\)(\\w|\\()', r').\\1', regex)\n",
    "    regex = re.sub(r'\\)(\\()', r').\\1', regex)\n",
    "\n",
    "    return regex\n",
    "\n",
    "\n"
   ]
  },
  {
   "cell_type": "code",
   "execution_count": 19,
   "metadata": {},
   "outputs": [],
   "source": [
    "def MoveSymbolToEndOfAtomicExpression(expression):\n",
    "    for i in range(len(expression)):\n",
    "        if expression[i] == \"|\":\n",
    "            return expression[0:i] + expression[i+1:] + \"|\"\n",
    "        if expression[i] == \".\":\n",
    "            return expression[0:i] + expression[i+1:] + \".\"\n",
    "    return expression\n",
    "            "
   ]
  },
  {
   "cell_type": "code",
   "execution_count": 14,
   "metadata": {},
   "outputs": [],
   "source": [
    "def RegexToNFA(regex):   \n",
    "    if ValidateRegex(regex):\n",
    "        regex = InsertConcatenationDot(regex)\n",
    "        regex = regex.replace(\" \", \"\")\n",
    "        atomics = ExtractAtomicExpressions(regex)\n",
    "        states = list()\n",
    "        for i in range(len(atomics)):\n",
    "            atomics[i] = MoveSymbolToEndOfAtomicExpression(atomics[i])\n",
    "        return atomics\n",
    "        #for atomic in atomics:\n"
   ]
  },
  {
   "cell_type": "code",
   "execution_count": 20,
   "metadata": {},
   "outputs": [
    {
     "name": "stdout",
     "output_type": "stream",
     "text": [
      "['b*', 'a.', 'c.']\n"
     ]
    }
   ],
   "source": [
    "regex= \"((a(b*))c)\"\n",
    "regex_dot= InsertConcatenationDot(regex)\n",
    "#print(regex_dot)\n",
    "#print(ExtractAtomicExpressions(regex_dot))\n",
    "#print(MoveSymbolToEndOfAtomicExpression(\"a|b\"))\n",
    "print(RegexToNFA(regex_dot))\n"
   ]
  },
  {
   "cell_type": "code",
   "execution_count": null,
   "metadata": {},
   "outputs": [],
   "source": [
    "# handle input of several atomic expressions\n",
    "# | handle character after\n",
    "# handle concatenation with absence of dot\n",
    "# modify output format\n",
    "# read json and convert to nfa\n",
    "# implement nfa to minimized dfa"
   ]
  }
 ],
 "metadata": {
  "kernelspec": {
   "display_name": "Python 3.11.0 64-bit",
   "language": "python",
   "name": "python3"
  },
  "language_info": {
   "codemirror_mode": {
    "name": "ipython",
    "version": 3
   },
   "file_extension": ".py",
   "mimetype": "text/x-python",
   "name": "python",
   "nbconvert_exporter": "python",
   "pygments_lexer": "ipython3",
   "version": "3.11.0"
  },
  "orig_nbformat": 4,
  "vscode": {
   "interpreter": {
    "hash": "5c7b89af1651d0b8571dde13640ecdccf7d5a6204171d6ab33e7c296e100e08a"
   }
  }
 },
 "nbformat": 4,
 "nbformat_minor": 2
}
