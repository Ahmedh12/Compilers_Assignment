{
 "cells": [
  {
   "cell_type": "code",
   "execution_count": 11,
   "metadata": {},
   "outputs": [],
   "source": [
    "class State:\n",
    "    def __init__(self, label=None, edges=None):\n",
    "        self.label = label\n",
    "        self.edges = edges or []\n",
    "\n",
    "class Fragment:\n",
    "    def __init__(self, start_state=None, accept_states=None):\n",
    "        self.start_state = start_state\n",
    "        self.accept_states = accept_states or []"
   ]
  },
  {
   "cell_type": "code",
   "execution_count": null,
   "metadata": {},
   "outputs": [],
   "source": [
    "# | handle character after\n",
    "# handle concatenation with absence of dot\n",
    "# modify output format\n",
    "# read json and convert to nfa\n",
    "# implement nfa to minimized dfa"
   ]
  },
  {
   "cell_type": "code",
   "execution_count": 31,
   "metadata": {},
   "outputs": [],
   "source": [
    "def compile_regex(regex):\n",
    "    counter = -1\n",
    "    stack = []\n",
    "    for i in range(len(regex)):\n",
    "        if regex[i] == '.':\n",
    "            frag2 = stack.pop()\n",
    "            frag1 = stack.pop()\n",
    "            frag1.accept_states[0].edges.append((None, frag2.start_state))\n",
    "            frag1.accept_states = frag2.accept_states\n",
    "            stack.append(frag1)\n",
    "        elif regex[i] == '|':\n",
    "            frag2 = stack.pop()\n",
    "            frag1 = stack.pop()\n",
    "            counter=counter+1\n",
    "            start_state = State()\n",
    "            start_state.label=counter\n",
    "            start_state.edges.append((None, frag1.start_state))\n",
    "            start_state.edges.append((None, frag2.start_state))\n",
    "            accept_states = frag1.accept_states + frag2.accept_states\n",
    "            stack.append(Fragment(start_state, accept_states))\n",
    "        elif regex[i] == '*':\n",
    "            counter=counter+1\n",
    "            frag = stack.pop()\n",
    "            start_state = State()\n",
    "            start_state.label=counter\n",
    "            accept_state = State()\n",
    "            counter=counter+1\n",
    "            accept_state.label=counter\n",
    "            start_state.edges.append((None, frag.start_state))\n",
    "            start_state.edges.append((None, accept_state))\n",
    "            frag.accept_states[0].edges.append((None, start_state))\n",
    "            frag.accept_states[0].edges.append((None, accept_state))\n",
    "            stack.append(Fragment(start_state, [accept_state]))\n",
    "        \n",
    "        elif regex[i] == '?':\n",
    "            counter=counter+1\n",
    "            frag = stack.pop()\n",
    "            start_state = State()\n",
    "            start_state.label=counter\n",
    "            accept_state = State()\n",
    "            counter=counter+1\n",
    "            accept_state.label=counter\n",
    "\n",
    "            start_state.edges.append((None, frag.start_state))\n",
    "            start_state.edges.append((None, accept_state))\n",
    "            frag.accept_states[0].edges.append((None, accept_state))\n",
    "            stack.append(Fragment(start_state, [accept_state]))\n",
    "        elif regex[i] == '+':\n",
    "            counter=counter+1\n",
    "            frag = stack.pop()\n",
    "            start_state = State()\n",
    "            start_state.label=counter\n",
    "            accept_state = State()\n",
    "            counter=counter+1\n",
    "            accept_state.label=counter\n",
    "            start_state.edges.append((None, frag.start_state))\n",
    "            frag.accept_states[0].edges.append((None, start_state))\n",
    "            frag.accept_states[0].edges.append((None, accept_state))\n",
    "            accept_state.edges.append((None, start_state))\n",
    "            stack.append(Fragment(start_state, [accept_state]))\n",
    "      \n",
    "        else:\n",
    "            counter=counter+1\n",
    "            start_state = State()\n",
    "            start_state.label=counter\n",
    "            accept_state = State()\n",
    "            accept_state.label=counter+1\n",
    "            start_state.edges.append((regex[i], accept_state))\n",
    "            stack.append(Fragment(start_state, [accept_state]))\n",
    "            counter=counter+1\n",
    "    return stack.pop()\n"
   ]
  },
  {
   "cell_type": "code",
   "execution_count": 32,
   "metadata": {},
   "outputs": [],
   "source": [
    "def print_nfa(nfa):\n",
    "    seen = set()\n",
    "    print(f\"start_state: {nfa.start_state.label}\")\n",
    "    for accept_state in nfa.accept_states:\n",
    "        print(f\"accept_state: {accept_state.label}\")\n",
    "    print(\"transitions:\")\n",
    "    queue = [nfa.start_state]\n",
    "    while queue:\n",
    "        state = queue.pop(0)\n",
    "        if state in seen:\n",
    "            continue\n",
    "        seen.add(state)\n",
    "        for char, dest_state in state.edges:\n",
    "            print(f\"{state.label} --({char})--> {dest_state.label}\")\n",
    "            queue.append(dest_state)\n",
    "\n"
   ]
  },
  {
   "cell_type": "code",
   "execution_count": 33,
   "metadata": {},
   "outputs": [
    {
     "name": "stdout",
     "output_type": "stream",
     "text": [
      "start_state: 2\n",
      "accept_state: 3\n",
      "transitions:\n",
      "2 --(None)--> 0\n",
      "2 --(None)--> 3\n",
      "0 --(a)--> 1\n",
      "1 --(None)--> 2\n",
      "1 --(None)--> 3\n"
     ]
    }
   ],
   "source": [
    "regex = 'a*'\n",
    "nfa = compile_regex(regex)\n",
    "print_nfa(nfa)"
   ]
  }
 ],
 "metadata": {
  "kernelspec": {
   "display_name": "Python 3.11.0 64-bit",
   "language": "python",
   "name": "python3"
  },
  "language_info": {
   "codemirror_mode": {
    "name": "ipython",
    "version": 3
   },
   "file_extension": ".py",
   "mimetype": "text/x-python",
   "name": "python",
   "nbconvert_exporter": "python",
   "pygments_lexer": "ipython3",
   "version": "3.11.0"
  },
  "orig_nbformat": 4,
  "vscode": {
   "interpreter": {
    "hash": "5c7b89af1651d0b8571dde13640ecdccf7d5a6204171d6ab33e7c296e100e08a"
   }
  }
 },
 "nbformat": 4,
 "nbformat_minor": 2
}
