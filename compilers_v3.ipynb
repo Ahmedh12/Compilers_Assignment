{
 "cells": [
  {
   "cell_type": "code",
   "execution_count": 37,
   "metadata": {},
   "outputs": [],
   "source": [
    "#from IPython.display import JSON\n",
    "from subprocess import getoutput\n",
    "import os\n",
    "import re \n",
    "import json"
   ]
  },
  {
   "cell_type": "code",
   "execution_count": 17,
   "metadata": {},
   "outputs": [],
   "source": [
    "def ValidateRegex (RegexInput):\n",
    "  try:\n",
    "    re.compile(RegexInput)\n",
    "    return True\n",
    "\n",
    "  except re.error:\n",
    "    print(\"Non valid regex pattern\")\n",
    "    exit()"
   ]
  },
  {
   "cell_type": "code",
   "execution_count": 4,
   "metadata": {},
   "outputs": [],
   "source": [
    "def ExtractAtomicExpressions(regex):\n",
    "    stack = list() \n",
    "    atomic = str()\n",
    "    atomics = list()\n",
    "    for c in regex:\n",
    "        if c != \")\":\n",
    "            stack.append(c)\n",
    "        else:\n",
    "            while stack[-1] != \"(\" and len(stack) > 0 : #Extract the atomic expression that corresponds to the closing paranthesis found\n",
    "                atomic = stack[-1] + atomic\n",
    "                stack.pop(-1)\n",
    "            \n",
    "            stack.pop(-1) #remove the opening bracket from the stack\n",
    "            atomics.append(atomic)\n",
    "            atomic = \"\"\n",
    "    #atomics.reverse()\n",
    "    return atomics"
   ]
  },
  {
   "cell_type": "code",
   "execution_count": 5,
   "metadata": {},
   "outputs": [],
   "source": [
    "class State:\n",
    "    stateID=None\n",
    "    edges=[]\n",
    "    transitions=[]    "
   ]
  },
  {
   "cell_type": "code",
   "execution_count": 6,
   "metadata": {},
   "outputs": [],
   "source": [
    "class NFA:\n",
    "    initial = None\n",
    "    accept = None\n",
    "\n",
    "    def __init__(self, initial, accept):\n",
    "        self.initial = initial\n",
    "        self.accept = accept or []"
   ]
  },
  {
   "cell_type": "code",
   "execution_count": 7,
   "metadata": {},
   "outputs": [],
   "source": [
    "def InsertConcatenationDot(regex):\n",
    "    regex = re.sub(r'\\)(\\w|\\()', r').\\1', regex)\n",
    "    regex = re.sub(r'\\)(\\()', r').\\1', regex)\n",
    "    regex = re.sub(r'(\\w|\\))(\\(|\\w)', r'\\1.\\2', regex)\n",
    "    regex = re.sub(r'(\\w|\\))\\(', r'\\1.(', regex)\n",
    "\n",
    "\n",
    "    return regex\n",
    "\n",
    "\n"
   ]
  },
  {
   "cell_type": "code",
   "execution_count": 19,
   "metadata": {},
   "outputs": [],
   "source": [
    "def MoveSymbolToEndOfAtomicExpression(expression):\n",
    "    for i in range(len(expression)):\n",
    "        if expression[i] == \"|\":\n",
    "            return expression[0:i] + expression[i+1:] + \"|\"\n",
    "        if expression[i] == \".\":\n",
    "            return expression[0:i] + expression[i+1:] + \".\"\n",
    "    return expression\n",
    "            "
   ]
  },
  {
   "cell_type": "code",
   "execution_count": 163,
   "metadata": {},
   "outputs": [],
   "source": [
    "def RegexToNFA(regex):   \n",
    "    if ValidateRegex(regex):\n",
    "        regex = InsertConcatenationDot(regex)\n",
    "        regex = regex.replace(\" \", \"\")\n",
    "        atomics = ExtractAtomicExpressions(regex)\n",
    "        states = list()\n",
    "        for i in range(len(atomics)):\n",
    "            atomics[i] = MoveSymbolToEndOfAtomicExpression(atomics[i])\n",
    "        counter = -1\n",
    "        stack = []\n",
    "        for atomic in atomics:\n",
    "            match = re.search(r'\\[.*?\\]', regex)\n",
    "            if match:\n",
    "                character_class = match.group()\n",
    "                counter=counter+1\n",
    "                initial = State()\n",
    "                initial.stateID=counter\n",
    "                accept = State()\n",
    "                accept.stateID=counter+1\n",
    "                initial.edges.append((character_class, accept))\n",
    "                accept.edges=[]\n",
    "                stack.append(NFA(initial, [accept]))\n",
    "                counter=counter+1\n",
    "            else:                \n",
    "                for i in range(len(atomic)):\n",
    "                    if regex[i] == '.':\n",
    "                        NFA2 = stack.pop()\n",
    "                        NFA1 = stack.pop()\n",
    "                        NFA1.accept[0].edges.append((\"ε\", NFA2.initial))\n",
    "                        NFA1.accept = NFA2.accept\n",
    "                        stack.append(NFA1)\n",
    "                    elif regex[i] == '|':\n",
    "                        NFA2 = stack.pop()\n",
    "                        NFA1 = stack.pop()\n",
    "                        counter=counter+1\n",
    "                        initial = State()\n",
    "                        initial.stateID=counter\n",
    "                        initial.edges.append((\"ε\", NFA1.initial))\n",
    "                        initial.edges.append((\"ε\", NFA2.initial))\n",
    "                        accept = NFA1.accept + NFA2.accept\n",
    "                        stack.append(NFA(initial, accept))\n",
    "                    elif regex[i] == '*':\n",
    "                        counter=counter+1\n",
    "                        NFA0 = stack.pop()\n",
    "                        initial = State()\n",
    "                        initial.stateID=counter\n",
    "                        accept = State()\n",
    "                        counter=counter+1\n",
    "                        accept.stateID=counter\n",
    "                        initial.edges.append((\"ε\", NFA0.initial))\n",
    "                        initial.edges.append((\"ε\", accept))\n",
    "                        NFA0.accept[0].edges.append((\"ε\", initial))\n",
    "                        NFA0.accept[0].edges.append((\"ε\", accept))\n",
    "                        stack.append(NFA(initial, [accept]))\n",
    "                    \n",
    "                    elif regex[i] == '?':\n",
    "                        counter=counter+1\n",
    "                        NFA0 = stack.pop()\n",
    "                        initial = State()\n",
    "                        initial.stateID=counter\n",
    "                        accept = State()\n",
    "                        counter=counter+1\n",
    "                        accept.stateID=counter\n",
    "                        initial.edges.append((\"ε\", NFA0.initial))\n",
    "                        initial.edges.append((\"ε\", accept))\n",
    "                        NFA0.accept[0].edges.append((\"ε\", accept))\n",
    "                        stack.append(NFA(initial, [accept]))\n",
    "                    elif regex[i] == '+':\n",
    "                        counter=counter+1\n",
    "                        NFA0 = stack.pop()\n",
    "                        initial = State()\n",
    "                        initial.stateID=counter\n",
    "                        accept = State()\n",
    "                        counter=counter+1\n",
    "                        accept.stateID=counter\n",
    "                        initial.edges.append((\"ε\", NFA0.initial))\n",
    "                        NFA0.accept[0].edges.append((\"ε\", initial))\n",
    "                        NFA0.accept[0].edges.append((\"ε\", accept))\n",
    "                        accept.edges.append((\"ε\", initial))\n",
    "                        stack.append(NFA(initial, [accept]))\n",
    "                \n",
    "                    else:\n",
    "                        counter=counter+1\n",
    "                        initial = State()\n",
    "                        initial.stateID=counter\n",
    "                        accept = State()\n",
    "                        accept.stateID=counter+1\n",
    "                        initial.edges.append((regex[i], accept))\n",
    "                        stack.append(NFA(initial, [accept]))\n",
    "                        counter=counter+1\n",
    "    if len(stack) >= 1:\n",
    "        return stack.pop()\n"
   ]
  },
  {
   "cell_type": "code",
   "execution_count": 164,
   "metadata": {},
   "outputs": [],
   "source": [
    "def WriteJsonFile(NFA):\n",
    " \n",
    "    data = dict()\n",
    "    visited = set()\n",
    "    data[\"startingState\"]=\"S\"+str(NFA.initial.stateID)\n",
    "    queue = [NFA.initial]\n",
    "    while queue:\n",
    "        state = queue.pop(0)\n",
    "        if state in visited:\n",
    "            continue\n",
    "        visited.add(state)\n",
    "        for char, dest_state in state.edges:\n",
    "            data[\"S\"+str(state.stateID)]=dict()\n",
    "            data[\"S\"+str(state.stateID)][\"isTerminatingState\"]=\"false\"\n",
    "            for char, dest_state in state.edges:\n",
    "                data[\"S\"+str(state.stateID)][str(char)]=\"S\"+str(dest_state.stateID)\n",
    "                queue.append(dest_state)\n",
    "    for accept_state in NFA.accept:\n",
    "       data[\"S\"+str(accept_state.stateID)]=dict()\n",
    "       data[\"S\"+str(accept_state.stateID)][\"isTerminatingState\"]=\"true\"\n",
    "       for char, dest_state in accept_state.edges:\n",
    "            data[\"S\"+str(accept_state.stateID)][str(char)]=\"S\"+str(dest_state.stateID)\n",
    "            visited.add(accept_state)\n",
    "    f = open('NFA.json','w')\n",
    "    json.dump(data,f)\n",
    "    f.close()\n",
    "    return data"
   ]
  },
  {
   "cell_type": "code",
   "execution_count": 165,
   "metadata": {},
   "outputs": [
    {
     "data": {
      "text/plain": [
       "{'startingState': 'S0',\n",
       " 'S0': {'isTerminatingState': 'false', '[a-c]': 'S1'},\n",
       " 'S1': {'isTerminatingState': 'true'}}"
      ]
     },
     "execution_count": 165,
     "metadata": {},
     "output_type": "execute_result"
    }
   ],
   "source": [
    "#regex= \"((a(b*))c)\"\n",
    "regex= \"([a-c])\"\n",
    "nfa=RegexToNFA(regex)\n",
    "WriteJsonFile(nfa)"
   ]
  },
  {
   "cell_type": "code",
   "execution_count": null,
   "metadata": {},
   "outputs": [],
   "source": [
    "\n"
   ]
  }
 ],
 "metadata": {
  "kernelspec": {
   "display_name": "Python 3.11.0 64-bit",
   "language": "python",
   "name": "python3"
  },
  "language_info": {
   "codemirror_mode": {
    "name": "ipython",
    "version": 3
   },
   "file_extension": ".py",
   "mimetype": "text/x-python",
   "name": "python",
   "nbconvert_exporter": "python",
   "pygments_lexer": "ipython3",
   "version": "3.11.0"
  },
  "orig_nbformat": 4,
  "vscode": {
   "interpreter": {
    "hash": "5c7b89af1651d0b8571dde13640ecdccf7d5a6204171d6ab33e7c296e100e08a"
   }
  }
 },
 "nbformat": 4,
 "nbformat_minor": 2
}
