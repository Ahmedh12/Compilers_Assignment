{
 "cells": [
  {
   "cell_type": "code",
   "execution_count": 2,
   "metadata": {},
   "outputs": [
    {
     "name": "stdout",
     "output_type": "stream",
     "text": [
      "StartingState : A\n",
      "A : {'states': ['S0', 'S2', 'S7', 'S4', 'S1'], 'IsTerminating': False, 'a': 'B', 'b': 'C'}\n",
      "B : {'states': ['S2', 'S7', 'S4', 'S8', 'S6', 'S3', 'S1'], 'IsTerminating': False, 'a': 'B', 'b': 'D'}\n",
      "C : {'states': ['S2', 'S5', 'S7', 'S4', 'S6', 'S1'], 'IsTerminating': False, 'a': 'B', 'b': 'C'}\n",
      "D : {'states': ['S2', 'S5', 'S9', 'S7', 'S4', 'S6', 'S1'], 'IsTerminating': False, 'a': 'B', 'b': 'E'}\n",
      "E : {'states': ['S10', 'S2', 'S5', 'S7', 'S4', 'S6', 'S1'], 'IsTerminating': True, 'a': 'B', 'b': 'C'}\n"
     ]
    }
   ],
   "source": [
    "import json\n",
    "\n",
    "f = open('DFA.json')\n",
    "DFA = json.load(f)\n",
    "f.close()\n",
    "\n",
    "states = DFA.keys()\n",
    "\n",
    "for state in states:\n",
    "    print(state , DFA.get(state) , sep =\" : \")"
   ]
  },
  {
   "cell_type": "code",
   "execution_count": 3,
   "metadata": {},
   "outputs": [],
   "source": [
    "def get_transitions(DFA):\n",
    "    transitions = []\n",
    "    for state in DFA.keys():\n",
    "        for transition in DFA.get(state):\n",
    "            if transition not in transitions and transition != 'states' and transition != 'IsTerminating' and state != 'StartingState' : \n",
    "                transitions.append(transition)\n",
    "    return transitions\n",
    "\n",
    "def get_accepting_states(DFA):\n",
    "    accepting_states = []\n",
    "    for state in DFA.keys():\n",
    "        if state != \"StartingState\" and DFA.get(state).get('IsTerminating') == True:\n",
    "            accepting_states.append(state)\n",
    "    return accepting_states\n",
    "\n",
    "def get_non_accepting_states(DFA):\n",
    "    non_accepting_states = []\n",
    "    for state in DFA.keys():\n",
    "        if state != \"StartingState\" and DFA.get(state).get('IsTerminating') == False:\n",
    "            non_accepting_states.append(state)\n",
    "    return non_accepting_states"
   ]
  },
  {
   "cell_type": "code",
   "execution_count": 4,
   "metadata": {},
   "outputs": [
    {
     "name": "stdout",
     "output_type": "stream",
     "text": [
      "['a', 'b']\n",
      "['E']\n",
      "['A', 'B', 'C', 'D']\n"
     ]
    }
   ],
   "source": [
    "transitions = get_transitions(DFA)\n",
    "print(transitions)\n",
    "\n",
    "accepting_states = get_accepting_states(DFA)\n",
    "print(accepting_states)\n",
    "\n",
    "non_accepting_states = get_non_accepting_states(DFA)\n",
    "print(non_accepting_states)"
   ]
  },
  {
   "cell_type": "code",
   "execution_count": 5,
   "metadata": {},
   "outputs": [
    {
     "data": {
      "text/plain": [
       "[['E'], ['A', 'C'], ['B'], ['D']]"
      ]
     },
     "execution_count": 5,
     "metadata": {},
     "output_type": "execute_result"
    }
   ],
   "source": [
    "def Minimum_DFA(DFA):\n",
    "    partitions = [get_accepting_states(DFA) , get_non_accepting_states(DFA)]\n",
    "    transitions = get_transitions(DFA)\n",
    "    for transition in transitions: # for each transition in the DFA e.g. a , b\n",
    "        new_partitions = [] # new partitions after the transition\n",
    "        for partition in partitions: # for each partition in the partitions e.g. [A,B,C] , [D] \n",
    "            partition_dict = {}\n",
    "            for state in partition: # for each state in the partition e.g. A , B , C\n",
    "                if DFA.get(state).get(transition) in partition_dict.keys(): # if the transition of the state is already in the partition_dict ,transition is The state that the transition leads to\n",
    "                    partition_dict.get(DFA.get(state).get(transition)).append(state) \n",
    "                else:\n",
    "                    partition_dict[DFA.get(state).get(transition)] = [state]\n",
    "            for key in partition_dict.keys(): # for each key in the partition_dict e.g. A , B , C\n",
    "                new_partitions.append(partition_dict.get(key)) # add the partition to the new_partitions\n",
    "        partitions = new_partitions # update the partitions\n",
    "    return partitions\n",
    "\n",
    "Minimum_DFA(DFA)"
   ]
  },
  {
   "cell_type": "code",
   "execution_count": 6,
   "metadata": {},
   "outputs": [
    {
     "data": {
      "text/plain": [
       "{'StartingState': 'A',\n",
       " 'A': {'states': ['S2', 'S5', 'S7', 'S4', 'S6', 'S1'],\n",
       "  'IsTerminating': False,\n",
       "  'a': 'B',\n",
       "  'b': 'A'},\n",
       " 'B': {'states': ['S2', 'S7', 'S4', 'S8', 'S6', 'S3', 'S1'],\n",
       "  'IsTerminating': False,\n",
       "  'a': 'B',\n",
       "  'b': 'D'},\n",
       " 'D': {'states': ['S2', 'S5', 'S9', 'S7', 'S4', 'S6', 'S1'],\n",
       "  'IsTerminating': False,\n",
       "  'a': 'B',\n",
       "  'b': 'E'},\n",
       " 'E': {'states': ['S10', 'S2', 'S5', 'S7', 'S4', 'S6', 'S1'],\n",
       "  'IsTerminating': True,\n",
       "  'a': 'B',\n",
       "  'b': 'A'}}"
      ]
     },
     "execution_count": 6,
     "metadata": {},
     "output_type": "execute_result"
    }
   ],
   "source": [
    "# merge the partitions to get the minimum DFA\n",
    "def merge_partitions(DFA,partitions):\n",
    "    for partition in partitions:\n",
    "        if len(partition) > 1:\n",
    "            for state in partition:\n",
    "                if state != partition[0]:\n",
    "                    DFA.get(partition[0]).update(DFA.get(state))\n",
    "                    del DFA[state]\n",
    "                \n",
    "                for state in DFA.keys():\n",
    "                    for transition in DFA.get(state):\n",
    "                        if transition != 'states' and transition != 'IsTerminating' and state != 'StartingState':\n",
    "                            if DFA.get(state).get(transition) in partition:\n",
    "                                DFA.get(state)[transition] = partition[0]\n",
    "                \n",
    "    return DFA\n",
    "\n",
    "merge_partitions(DFA,Minimum_DFA(DFA))"
   ]
  },
  {
   "cell_type": "code",
   "execution_count": 7,
   "metadata": {},
   "outputs": [],
   "source": [
    "f = open('Min_DFA.json','w')\n",
    "json.dump(DFA,f)\n",
    "f.close()\n"
   ]
  },
  {
   "cell_type": "code",
   "execution_count": null,
   "metadata": {},
   "outputs": [],
   "source": []
  }
 ],
 "metadata": {
  "kernelspec": {
   "display_name": "Python 3",
   "language": "python",
   "name": "python3"
  },
  "language_info": {
   "codemirror_mode": {
    "name": "ipython",
    "version": 3
   },
   "file_extension": ".py",
   "mimetype": "text/x-python",
   "name": "python",
   "nbconvert_exporter": "python",
   "pygments_lexer": "ipython3",
   "version": "3.9.7"
  },
  "orig_nbformat": 4
 },
 "nbformat": 4,
 "nbformat_minor": 2
}
