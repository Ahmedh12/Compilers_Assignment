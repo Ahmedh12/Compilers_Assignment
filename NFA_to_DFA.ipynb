{
 "cells": [
  {
   "cell_type": "code",
   "execution_count": 1,
   "metadata": {},
   "outputs": [
    {
     "name": "stdout",
     "output_type": "stream",
     "text": [
      "StartingState : S1\n",
      "S1 : {'IsTerminating': False, 'epsilon': ['S2', 'S11']}\n",
      "S2 : {'IsTerminating': False, 'a': ['S3']}\n",
      "S3 : {'IsTerminating': False, 'epsilon': ['S4']}\n",
      "S4 : {'IsTerminating': False, 'epsilon': ['S5', 'S7']}\n",
      "S5 : {'IsTerminating': False, '[a-z]': ['S6']}\n",
      "S6 : {'IsTerminating': False, 'epsilon': ['S5', 'S7']}\n",
      "S7 : {'IsTerminating': False, 'epsilon': ['S8']}\n",
      "S8 : {'IsTerminating': False, 'b': ['S9']}\n",
      "S9 : {'IsTerminating': False, 'epsilon': ['S10']}\n",
      "S10 : {'IsTerminating': True}\n",
      "S11 : {'IsTerminating': False, 'c': ['S12']}\n",
      "S12 : {'IsTerminating': False, 'epsilon': ['S10']}\n"
     ]
    }
   ],
   "source": [
    "import json\n",
    "\n",
    "f = open('json/NFA_2.json')\n",
    "NFA = json.load(f)\n",
    "f.close()\n",
    "states = NFA.keys()\n",
    "\n",
    "for state in states:\n",
    "    print(state , NFA.get(state) , sep =\" : \")"
   ]
  },
  {
   "cell_type": "code",
   "execution_count": 2,
   "metadata": {},
   "outputs": [],
   "source": [
    "def epsilon_closure_state_rec(NFA,state,visited):\n",
    "    reachable = [state]\n",
    "    visited.append(state)\n",
    "    for transition in NFA.get(state):\n",
    "        if transition == 'epsilon':\n",
    "            reachable.extend((NFA.get(state).get(transition)))\n",
    "            for state in reachable:\n",
    "                if state not in visited:\n",
    "                    visited.append(state)\n",
    "                    reachable.extend(epsilon_closure_state_rec(NFA,state,visited))\n",
    "    return list(set(reachable))\n"
   ]
  },
  {
   "cell_type": "code",
   "execution_count": 3,
   "metadata": {},
   "outputs": [],
   "source": [
    "def epsilon_closure_state(NFA,state):\n",
    "    visited = []\n",
    "    return epsilon_closure_state_rec(NFA,state,visited)\n"
   ]
  },
  {
   "cell_type": "code",
   "execution_count": 4,
   "metadata": {},
   "outputs": [
    {
     "name": "stdout",
     "output_type": "stream",
     "text": [
      "StartingState : ['StartingState']\n",
      "S1 : ['S2', 'S11', 'S1']\n",
      "S2 : ['S2']\n",
      "S3 : ['S5', 'S7', 'S4', 'S8', 'S3']\n",
      "S4 : ['S5', 'S8', 'S7', 'S4']\n",
      "S5 : ['S5']\n",
      "S6 : ['S5', 'S6', 'S8', 'S7']\n",
      "S7 : ['S8', 'S7']\n",
      "S8 : ['S8']\n",
      "S9 : ['S10', 'S9']\n",
      "S10 : ['S10']\n",
      "S11 : ['S11']\n",
      "S12 : ['S10', 'S12']\n"
     ]
    }
   ],
   "source": [
    "#test epsilon_closure_state\n",
    "for state in states:\n",
    "    print(state , epsilon_closure_state(NFA,state) , sep =\" : \")"
   ]
  },
  {
   "cell_type": "code",
   "execution_count": 5,
   "metadata": {},
   "outputs": [],
   "source": [
    "def epsilon_closure_states(NFA,states):\n",
    "    reachable = []\n",
    "    visited = []\n",
    "    for state in states:\n",
    "        reachable.extend(epsilon_closure_state(NFA,state))\n",
    "    return list(set(reachable))"
   ]
  },
  {
   "cell_type": "code",
   "execution_count": 6,
   "metadata": {},
   "outputs": [
    {
     "name": "stdout",
     "output_type": "stream",
     "text": [
      "['S1', 'S11', 'S2', 'S4', 'S5', 'S7', 'S8']\n"
     ]
    }
   ],
   "source": [
    "#test epsilon closure of states\n",
    "sorted = lambda x: x.sort()\n",
    "ans = epsilon_closure_states(NFA,['S1','S4','S8'])\n",
    "sorted(ans)\n",
    "print(ans)"
   ]
  },
  {
   "cell_type": "code",
   "execution_count": 7,
   "metadata": {},
   "outputs": [],
   "source": [
    "def move(NFA,states,symbol):\n",
    "    reachable = []\n",
    "    for state in states:\n",
    "        if symbol in NFA.get(state):\n",
    "            reachable.extend(NFA.get(state).get(symbol))\n",
    "    return list(set(reachable))"
   ]
  },
  {
   "cell_type": "code",
   "execution_count": 8,
   "metadata": {},
   "outputs": [
    {
     "name": "stdout",
     "output_type": "stream",
     "text": [
      "['S5', 'S10', 'S9']\n"
     ]
    }
   ],
   "source": [
    "#test move\n",
    "print(epsilon_closure_states(NFA,['S5','S9']))"
   ]
  },
  {
   "cell_type": "code",
   "execution_count": 9,
   "metadata": {},
   "outputs": [],
   "source": [
    "def DFA_state(states , IsTerminating):\n",
    "    return {'states':states , 'IsTerminating':IsTerminating , 'marked' : False}\n",
    "\n",
    "def Extract_NFA_transitions(NFA):\n",
    "    transitions = []\n",
    "    for state in NFA:\n",
    "        if state != \"StartingState\":\n",
    "            for transition in NFA.get(state):\n",
    "                if transition != 'epsilon' and transition != 'IsTerminating' and transition not in transitions:\n",
    "                    transitions.append(transition)\n",
    "    return transitions\n",
    "\n",
    "def unique_state_set(DFA , U):\n",
    "    for state in DFA.keys():\n",
    "        if state != \"StartingState\" and DFA.get(state).get(\"states\") == U:\n",
    "            return state\n",
    "    return None\n",
    "\n",
    "def get_NFA_Terminating_states(NFA):\n",
    "    terminating_states = set()\n",
    "    for state in NFA:\n",
    "        if state != \"StartingState\" and NFA.get(state).get(\"IsTerminating\") == True:\n",
    "            terminating_states.add(state)\n",
    "    return terminating_states\n",
    "\n",
    "def get_first_unmarked_state(DFA):\n",
    "    for state in DFA:\n",
    "        if state != \"StartingState\" and DFA.get(state).get(\"marked\") == False:\n",
    "            return state\n",
    "    return None"
   ]
  },
  {
   "cell_type": "code",
   "execution_count": 10,
   "metadata": {},
   "outputs": [],
   "source": [
    "def NFA_to_DFA(NFA):\n",
    "    last_DFA_State_symbol = 65\n",
    "    terminating_states = get_NFA_Terminating_states(NFA)\n",
    "    DFA = dict()\n",
    "    DFA[\"StartingState\"] = chr(last_DFA_State_symbol)\n",
    "    \n",
    "    U = epsilon_closure_state(NFA, NFA.get(\"StartingState\"))\n",
    "    if len(list(set(U).intersection(terminating_states))) > 0:\n",
    "        DFA.update({chr(last_DFA_State_symbol): DFA_state(U,True)})\n",
    "    else:\n",
    "        DFA.update({chr(last_DFA_State_symbol): DFA_state(U,False)})\n",
    "    \n",
    "    transitions = Extract_NFA_transitions(NFA)\n",
    "    states = [chr(last_DFA_State_symbol)]\n",
    "    while False in [DFA.get(state).get(\"marked\") for state in states]:\n",
    "        for transition in transitions: #for each transition in NFA\n",
    "            state = get_first_unmarked_state(DFA)\n",
    "            NFA_states = DFA.get(state).get('states')\n",
    "            U = epsilon_closure_states(NFA,move(NFA,NFA_states,transition))\n",
    "            unique_state = unique_state_set(DFA,U)\n",
    "            if unique_state is None:\n",
    "                last_DFA_State_symbol += 1\n",
    "                if len(list(set(U).intersection(terminating_states))) > 0:\n",
    "                    DFA.update({chr(last_DFA_State_symbol): DFA_state(U,True)})\n",
    "                else:\n",
    "                    DFA.update({chr(last_DFA_State_symbol): DFA_state(U,False)})\n",
    "                states.append(chr(last_DFA_State_symbol))\n",
    "                DFA.get(state).update({transition : chr(last_DFA_State_symbol)})\n",
    "            else:\n",
    "                DFA.get(state).update({transition : unique_state})\n",
    "\n",
    "        DFA.get(state).update({\"marked\":True})\n",
    "\n",
    "    \n",
    "    #remove the marked attribute\n",
    "    for state in DFA:\n",
    "        if state != \"StartingState\":\n",
    "            DFA.get(state).pop(\"marked\")\n",
    "        \n",
    "    return DFA\n",
    "\n",
    "\n",
    "    "
   ]
  },
  {
   "cell_type": "code",
   "execution_count": 12,
   "metadata": {},
   "outputs": [],
   "source": [
    "#test NFA_to_DFA\n",
    "DFA = NFA_to_DFA(NFA)\n",
    "\n",
    "# Path: NFA_to_DFA.ipynb\n",
    "import json\n",
    "file = open('DFA_2.json','w')\n",
    "json.dump(DFA,file)\n",
    "file.close()"
   ]
  }
 ],
 "metadata": {
  "kernelspec": {
   "display_name": "Python 3",
   "language": "python",
   "name": "python3"
  },
  "language_info": {
   "codemirror_mode": {
    "name": "ipython",
    "version": 3
   },
   "file_extension": ".py",
   "mimetype": "text/x-python",
   "name": "python",
   "nbconvert_exporter": "python",
   "pygments_lexer": "ipython3",
   "version": "3.9.7"
  },
  "orig_nbformat": 4
 },
 "nbformat": 4,
 "nbformat_minor": 2
}
