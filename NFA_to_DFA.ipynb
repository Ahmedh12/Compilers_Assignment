{
 "cells": [
  {
   "cell_type": "code",
   "execution_count": 1,
   "metadata": {},
   "outputs": [
    {
     "name": "stdout",
     "output_type": "stream",
     "text": [
      "StartingState : S1\n",
      "S1 : {'IsTerminating': False, 'epsilon': ['S2', 'S6']}\n",
      "S2 : {'IsTerminating': False, 'epsilon': ['S3', 'S13']}\n",
      "S3 : {'IsTerminating': False, 'a': ['S4']}\n",
      "S4 : {'IsTerminating': False, 'epsilon': ['S5']}\n",
      "S5 : {'IsTerminating': False, 'epsilon': ['S2', 'S6']}\n",
      "S6 : {'IsTerminating': False, 'epsilon': ['S7']}\n",
      "S7 : {'IsTerminating': False, 'a': ['S8']}\n",
      "S8 : {'IsTerminating': False, 'epsilon': ['S9']}\n",
      "S9 : {'IsTerminating': False, 'b': ['S10']}\n",
      "S10 : {'IsTerminating': False, 'epsilon': ['S11']}\n",
      "S11 : {'IsTerminating': False, 'b': ['S12']}\n",
      "S12 : {'IsTerminating': True}\n",
      "S13 : {'IsTerminating': False, 'b': ['S14']}\n",
      "S14 : {'IsTerminating': False, 'epsilon': ['S5']}\n"
     ]
    }
   ],
   "source": [
    "import json\n",
    "\n",
    "f = open('NFA.json')\n",
    "NFA = json.load(f)\n",
    "f.close()\n",
    "\n",
    "states = NFA.keys()\n",
    "\n",
    "for state in states:\n",
    "    print(state , NFA.get(state) , sep =\" : \")"
   ]
  },
  {
   "cell_type": "code",
   "execution_count": 2,
   "metadata": {},
   "outputs": [],
   "source": [
    "visited = []\n",
    "def epsilon_closure_fn(NFA,state,visited):\n",
    "    epsilon_closure = [state]\n",
    "    visited.append(state)\n",
    "    for transition in NFA.get(state):\n",
    "        if transition == 'epsilon':\n",
    "            epsilon_closure.extend((NFA.get(state).get(transition)))\n",
    "            for state in epsilon_closure:\n",
    "                if state not in visited:\n",
    "                    visited.append(state)\n",
    "                    epsilon_closure.extend(epsilon_closure_fn(NFA,state,visited))\n",
    "    return epsilon_closure\n"
   ]
  },
  {
   "cell_type": "code",
   "execution_count": 4,
   "metadata": {},
   "outputs": [
    {
     "name": "stdout",
     "output_type": "stream",
     "text": [
      "StartingState : ['StartingState']\n",
      "S1 : ['S1', 'S2', 'S6', 'S2', 'S3', 'S13', 'S3', 'S13', 'S6', 'S7', 'S7']\n",
      "S2 : ['S2', 'S3', 'S13']\n",
      "S3 : ['S3']\n",
      "S4 : ['S4', 'S5', 'S5', 'S2', 'S6']\n",
      "S5 : ['S5', 'S2', 'S6']\n",
      "S6 : ['S6', 'S7']\n",
      "S7 : ['S7']\n",
      "S8 : ['S8', 'S9', 'S9']\n",
      "S9 : ['S9']\n",
      "S10 : ['S10', 'S11', 'S11']\n",
      "S11 : ['S11']\n",
      "S12 : ['S12']\n",
      "S13 : ['S13']\n",
      "S14 : ['S14', 'S5']\n"
     ]
    }
   ],
   "source": [
    "#print epsilon of all states\n",
    "for state in states:\n",
    "    print(state , epsilon_closure_fn(NFA,state,visited) , sep =\" : \")"
   ]
  },
  {
   "cell_type": "code",
   "execution_count": null,
   "metadata": {},
   "outputs": [],
   "source": []
  }
 ],
 "metadata": {
  "kernelspec": {
   "display_name": "Python 3",
   "language": "python",
   "name": "python3"
  },
  "language_info": {
   "codemirror_mode": {
    "name": "ipython",
    "version": 3
   },
   "file_extension": ".py",
   "mimetype": "text/x-python",
   "name": "python",
   "nbconvert_exporter": "python",
   "pygments_lexer": "ipython3",
   "version": "3.9.7"
  },
  "orig_nbformat": 4
 },
 "nbformat": 4,
 "nbformat_minor": 2
}
